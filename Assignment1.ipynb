{
 "cells": [
  {
   "cell_type": "code",
   "execution_count": null,
   "metadata": {
    "collapsed": true
   },
   "outputs": [],
   "source": [
    "from urllib.request import urlopen\n",
    "wiki = \"https://en.wikipedia.org/wiki/Gal_Gadot\"\n",
    "page = urlopen(wiki)\n",
    "from bs4 import BeautifulSoup\n",
    "soup = BeautifulSoup(page)\n",
    "\n",
    "# print the page\n",
    "print(soup.prettify())\n",
    "\n",
    "# find the films table\n",
    "films_table = soup.find('table', class_='wikitable sortable jquery-tablesorter')\n",
    "col1 = []\n",
    "col2 = []\n",
    "col3 = []\n",
    "col4 = []\n",
    "year = \"\"\n",
    "title = \"\"\n",
    "role = \"\"\n",
    "director = \"\"\n",
    "# take every row in the table and insert to cols\n",
    "for row in films_table.findAll(\"tr\"):\n",
    "    cells = films_table.findAll('td')\n",
    "    heads = films_table.findAll('th')\n",
    "    if len(cells) == 5:  # Only extract table body not heading\n",
    "        col1.append(cells[0].find(text=True))\n",
    "        year = cells[0].find(text=True)\n",
    "        col2.append(cells[1].find(text=True))\n",
    "        title = cells[1].find(text=True)\n",
    "        col3.append(cells[2].find(text=True))\n",
    "        role = cells[2].find(text=True)\n",
    "        col4.append(cells[3].find(text=True))\n",
    "        director = cells[3].find(text=True)\n",
    "    if len(cells) == 4:\n",
    "        temp_year = cells[0].find(text=True)\n",
    "        if type(temp_year) != int:\n",
    "            col1.append(year)\n",
    "            col2.append(cells[1].find(text=True))\n",
    "            col3.append(cells[2].find(text=True))\n",
    "            col4.append(cells[3].find(text=True))\n",
    "        else:\n",
    "            col1.append(cells[0].find(text=True))\n",
    "            col2.append(cells[1].find(text=True))\n",
    "            col3.append(role)\n",
    "            col4.append(cells[3].find(text=True))\n",
    "\n"
   ]
  },
  {
   "cell_type": "code",
   "execution_count": null,
   "metadata": {},
   "outputs": [],
   "source": [
    "# import pandas to convert list to data frame\n",
    "import pandas as pd\n",
    "df = pd.DataFrame(col1)\n",
    "df['Year'] = col1\n",
    "df['Title'] = col2\n",
    "df['Role'] = col3\n",
    "df['Director'] = col4\n",
    "df"
   ]
  }
 ],
 "metadata": {
  "kernelspec": {
   "display_name": "Python 2",
   "language": "python",
   "name": "python2"
  },
  "language_info": {
   "codemirror_mode": {
    "name": "ipython",
    "version": 2
   },
   "file_extension": ".py",
   "mimetype": "text/x-python",
   "name": "python",
   "nbconvert_exporter": "python",
   "pygments_lexer": "ipython2",
   "version": "2.7.6"
  }
 },
 "nbformat": 4,
 "nbformat_minor": 0
}
